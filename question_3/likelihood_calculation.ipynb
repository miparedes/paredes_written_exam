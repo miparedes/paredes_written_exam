{
 "cells": [
  {
   "cell_type": "code",
   "execution_count": 1,
   "id": "ebec4133",
   "metadata": {},
   "outputs": [],
   "source": [
    "import pandas as pd\n",
    "import numpy as np\n",
    "import matplotlib.pyplot as plt\n",
    "import math"
   ]
  },
  {
   "cell_type": "code",
   "execution_count": 2,
   "id": "75899ed0",
   "metadata": {},
   "outputs": [],
   "source": [
    "def test(u, v):\n",
    "    P = (1/(u + v))* np.array([[v + u* np.exp(-(u+v)), u - u* np.exp(-(u+v))], [v - v* np.exp(-(u+v)), u + v* np.exp(-(u+v))] ])\n",
    "    return(P)"
   ]
  },
  {
   "cell_type": "code",
   "execution_count": 3,
   "id": "57153d49",
   "metadata": {},
   "outputs": [
    {
     "data": {
      "text/plain": [
       "array([[0.56766764, 0.43233236],\n",
       "       [0.43233236, 0.56766764]])"
      ]
     },
     "execution_count": 3,
     "metadata": {},
     "output_type": "execute_result"
    }
   ],
   "source": [
    "P = test(1,1); P"
   ]
  },
  {
   "cell_type": "code",
   "execution_count": 4,
   "id": "4872448b",
   "metadata": {},
   "outputs": [
    {
     "data": {
      "text/plain": [
       "0.5676676416183064"
      ]
     },
     "execution_count": 4,
     "metadata": {},
     "output_type": "execute_result"
    }
   ],
   "source": [
    "## check using Yang derivation on page 39 where a =b = 1 and P[0,0] equals (1/2) + (1/2)e^-2t , here assuming that t = 1\n",
    ".5+.5*math.exp(-2) #same result!"
   ]
  },
  {
   "cell_type": "code",
   "execution_count": 5,
   "id": "6ed364eb",
   "metadata": {},
   "outputs": [],
   "source": [
    "#ennumerating all the ancestral nodes where 0 = A and 1 = B\n",
    "root_states = [0,1]\n",
    "first_internal_state = [0,1]\n",
    "second_internal_state= [0,1]\n"
   ]
  },
  {
   "cell_type": "code",
   "execution_count": 6,
   "id": "c9ea70a4",
   "metadata": {},
   "outputs": [],
   "source": [
    "def likelihood(u, v):\n",
    "    final_list = []\n",
    "#     u = mig_uv\n",
    "#     v = mig_vu\n",
    "    #print(u)\n",
    "    #print(v)\n",
    "    D = {'root': [], 'first': [], 'second': [], 'likelihood':[]}\n",
    "    total = 0\n",
    "    root_freq = [(v /(u+v)),(u /(u+v)) ]\n",
    "    P = (1/(u + v))* np.array([[v + u* np.exp(-(u+v)), u - u* np.exp(-(u+v))], [v - v* np.exp(-(u+v)), u + v* np.exp(-(u+v))] ])\n",
    "    #print(root_freq[0])\n",
    "    #print(P)\n",
    "    #print(root_freq[0])\n",
    "    #print(P[0,1])\n",
    "    total_list = []\n",
    "    for root in root_states:\n",
    "        for first_internal in first_internal_state:\n",
    "            for second_internal in second_internal_state:\n",
    "                total = 0\n",
    "                total = root_freq[root]*P[root,1]*P[root, first_internal]*P[first_internal, 1]*P[first_internal, second_internal]*P[second_internal, 1]*P[second_internal, 0]\n",
    "                total_list.append(total)\n",
    "                D['root'].append(root)\n",
    "                D['first'].append(first_internal)\n",
    "                D['second'].append(second_internal)\n",
    "                D['likelihood'].append(total)\n",
    "    return np.sum(total_list), D"
   ]
  },
  {
   "cell_type": "code",
   "execution_count": 7,
   "id": "ccfdcf04",
   "metadata": {
    "scrolled": true
   },
   "outputs": [
    {
     "data": {
      "text/plain": [
       "0.059367993736735944"
      ]
     },
     "execution_count": 7,
     "metadata": {},
     "output_type": "execute_result"
    }
   ],
   "source": [
    "test , dict_d = likelihood( .4, .1); test"
   ]
  },
  {
   "cell_type": "code",
   "execution_count": null,
   "id": "0abe8787",
   "metadata": {},
   "outputs": [],
   "source": [
    "foo = pd.DataFrame(dict_d);foo"
   ]
  },
  {
   "cell_type": "code",
   "execution_count": null,
   "id": "4ae19b35",
   "metadata": {},
   "outputs": [],
   "source": [
    "foo.likelihood.sum()"
   ]
  },
  {
   "cell_type": "code",
   "execution_count": null,
   "id": "c5eba8f4",
   "metadata": {},
   "outputs": [],
   "source": [
    "root_states"
   ]
  },
  {
   "cell_type": "code",
   "execution_count": 8,
   "id": "d7791ff2",
   "metadata": {},
   "outputs": [],
   "source": [
    "mig_ab = np.arange(0.001, 5, 0.01)\n",
    "mig_ba = np.arange(0.001, 5, 0.01)"
   ]
  },
  {
   "cell_type": "code",
   "execution_count": 9,
   "id": "364eeca6",
   "metadata": {
    "scrolled": true
   },
   "outputs": [],
   "source": [
    "#cycle through values of v and u and create a giant dataframe for each combination\n",
    "\n",
    "x = mig_ab\n",
    "y = mig_ba\n",
    "total_list= []\n",
    "D = {'A_B': [], 'B_A': [], 'posterior': []}\n",
    "for a in x:\n",
    "    for b in y:\n",
    "        total, dict_d = likelihood(a, b)\n",
    "        posteior = total* np.exp(-a)* np.exp(-b) #assuming the prior is that both mig rates follow exp dist with mean 1\n",
    "        total_list.append(posteior)\n",
    "        D['A_B'].append(a)\n",
    "        D['B_A'].append(b)\n",
    "        D['posterior'].append(posteior)\n",
    "\n"
   ]
  },
  {
   "cell_type": "code",
   "execution_count": 10,
   "id": "63173db1",
   "metadata": {},
   "outputs": [
    {
     "data": {
      "text/html": [
       "<div>\n",
       "<style scoped>\n",
       "    .dataframe tbody tr th:only-of-type {\n",
       "        vertical-align: middle;\n",
       "    }\n",
       "\n",
       "    .dataframe tbody tr th {\n",
       "        vertical-align: top;\n",
       "    }\n",
       "\n",
       "    .dataframe thead th {\n",
       "        text-align: right;\n",
       "    }\n",
       "</style>\n",
       "<table border=\"1\" class=\"dataframe\">\n",
       "  <thead>\n",
       "    <tr style=\"text-align: right;\">\n",
       "      <th></th>\n",
       "      <th>A_B</th>\n",
       "      <th>B_A</th>\n",
       "      <th>posterior</th>\n",
       "    </tr>\n",
       "  </thead>\n",
       "  <tbody>\n",
       "    <tr>\n",
       "      <th>0</th>\n",
       "      <td>0.001</td>\n",
       "      <td>0.001</td>\n",
       "      <td>0.000497</td>\n",
       "    </tr>\n",
       "    <tr>\n",
       "      <th>1</th>\n",
       "      <td>0.001</td>\n",
       "      <td>0.011</td>\n",
       "      <td>0.000853</td>\n",
       "    </tr>\n",
       "    <tr>\n",
       "      <th>2</th>\n",
       "      <td>0.001</td>\n",
       "      <td>0.021</td>\n",
       "      <td>0.000832</td>\n",
       "    </tr>\n",
       "    <tr>\n",
       "      <th>3</th>\n",
       "      <td>0.001</td>\n",
       "      <td>0.031</td>\n",
       "      <td>0.000792</td>\n",
       "    </tr>\n",
       "    <tr>\n",
       "      <th>4</th>\n",
       "      <td>0.001</td>\n",
       "      <td>0.041</td>\n",
       "      <td>0.000748</td>\n",
       "    </tr>\n",
       "    <tr>\n",
       "      <th>...</th>\n",
       "      <td>...</td>\n",
       "      <td>...</td>\n",
       "      <td>...</td>\n",
       "    </tr>\n",
       "    <tr>\n",
       "      <th>249995</th>\n",
       "      <td>4.991</td>\n",
       "      <td>4.951</td>\n",
       "      <td>0.000003</td>\n",
       "    </tr>\n",
       "    <tr>\n",
       "      <th>249996</th>\n",
       "      <td>4.991</td>\n",
       "      <td>4.961</td>\n",
       "      <td>0.000003</td>\n",
       "    </tr>\n",
       "    <tr>\n",
       "      <th>249997</th>\n",
       "      <td>4.991</td>\n",
       "      <td>4.971</td>\n",
       "      <td>0.000003</td>\n",
       "    </tr>\n",
       "    <tr>\n",
       "      <th>249998</th>\n",
       "      <td>4.991</td>\n",
       "      <td>4.981</td>\n",
       "      <td>0.000003</td>\n",
       "    </tr>\n",
       "    <tr>\n",
       "      <th>249999</th>\n",
       "      <td>4.991</td>\n",
       "      <td>4.991</td>\n",
       "      <td>0.000003</td>\n",
       "    </tr>\n",
       "  </tbody>\n",
       "</table>\n",
       "<p>250000 rows × 3 columns</p>\n",
       "</div>"
      ],
      "text/plain": [
       "          A_B    B_A  posterior\n",
       "0       0.001  0.001   0.000497\n",
       "1       0.001  0.011   0.000853\n",
       "2       0.001  0.021   0.000832\n",
       "3       0.001  0.031   0.000792\n",
       "4       0.001  0.041   0.000748\n",
       "...       ...    ...        ...\n",
       "249995  4.991  4.951   0.000003\n",
       "249996  4.991  4.961   0.000003\n",
       "249997  4.991  4.971   0.000003\n",
       "249998  4.991  4.981   0.000003\n",
       "249999  4.991  4.991   0.000003\n",
       "\n",
       "[250000 rows x 3 columns]"
      ]
     },
     "execution_count": 10,
     "metadata": {},
     "output_type": "execute_result"
    }
   ],
   "source": [
    "df = pd.DataFrame(D); df"
   ]
  },
  {
   "cell_type": "code",
   "execution_count": 11,
   "id": "9de9f849",
   "metadata": {
    "scrolled": true
   },
   "outputs": [
    {
     "data": {
      "text/html": [
       "<div>\n",
       "<style scoped>\n",
       "    .dataframe tbody tr th:only-of-type {\n",
       "        vertical-align: middle;\n",
       "    }\n",
       "\n",
       "    .dataframe tbody tr th {\n",
       "        vertical-align: top;\n",
       "    }\n",
       "\n",
       "    .dataframe thead th {\n",
       "        text-align: right;\n",
       "    }\n",
       "</style>\n",
       "<table border=\"1\" class=\"dataframe\">\n",
       "  <thead>\n",
       "    <tr style=\"text-align: right;\">\n",
       "      <th></th>\n",
       "      <th>A_B</th>\n",
       "      <th>B_A</th>\n",
       "      <th>posterior</th>\n",
       "    </tr>\n",
       "  </thead>\n",
       "  <tbody>\n",
       "    <tr>\n",
       "      <th>20516</th>\n",
       "      <td>0.411</td>\n",
       "      <td>0.161</td>\n",
       "      <td>0.03914</td>\n",
       "    </tr>\n",
       "  </tbody>\n",
       "</table>\n",
       "</div>"
      ],
      "text/plain": [
       "         A_B    B_A  posterior\n",
       "20516  0.411  0.161    0.03914"
      ]
     },
     "execution_count": 11,
     "metadata": {},
     "output_type": "execute_result"
    }
   ],
   "source": [
    "df[df.posterior == df.posterior.max()]"
   ]
  },
  {
   "cell_type": "code",
   "execution_count": 12,
   "id": "c828cc09",
   "metadata": {},
   "outputs": [],
   "source": [
    "#df.to_csv(\"~/Desktop/test_likelihood.csv\")"
   ]
  },
  {
   "cell_type": "code",
   "execution_count": 13,
   "id": "2b46b22b",
   "metadata": {},
   "outputs": [
    {
     "data": {
      "text/plain": [
       "1.1713613368035591"
      ]
     },
     "execution_count": 13,
     "metadata": {},
     "output_type": "execute_result"
    }
   ],
   "source": [
    "np.random.exponential(scale=1.0)"
   ]
  },
  {
   "cell_type": "code",
   "execution_count": 15,
   "id": "2efd5fa3",
   "metadata": {},
   "outputs": [
    {
     "data": {
      "image/png": "[encoded data removed]",
      "text/plain": [
       "<Figure size 640x480 with 2 Axes>"
      ]
     },
     "metadata": {},
     "output_type": "display_data"
    }
   ],
   "source": [
    "x=df.A_B\n",
    "y=df.B_A\n",
    "z=df.posterior\n",
    "fig, ax = plt.subplots()\n",
    "tcf = ax.tricontourf(x, y, z)\n",
    "fig.colorbar(tcf)\n",
    "ax.tricontourf(x, y, z)\n",
    "ax.set_xlabel(\"mig A to B\")\n",
    "ax.set_ylabel(\"mig B to A\")\n",
    "plt.savefig('posterior_question_3.png',dpi=300,bbox_inches='tight')\n",
    "\n"
   ]
  },
  {
   "cell_type": "code",
   "execution_count": null,
   "id": "a4663842",
   "metadata": {},
   "outputs": [],
   "source": [
    "x=df.A_B\n",
    "y=df.B_A\n",
    "z=df.posterior\n",
    "fig, ax = plt.subplots()\n",
    "tcf = ax.tricontourf(x, y, z)\n",
    "fig.colorbar(tcf)\n",
    "ax.tricontourf(x, y, z)\n",
    "ax.set_xlabel(\"mig A to B\")\n",
    "ax.set_ylabel(\"mig B to A\")\n",
    "plt.ylim((0,2))\n",
    "plt.xlim((0,2))\n"
   ]
  },
  {
   "cell_type": "code",
   "execution_count": null,
   "id": "035b674f",
   "metadata": {},
   "outputs": [],
   "source": []
  }
 ],
 "metadata": {
  "kernelspec": {
   "display_name": "Python 3 (ipykernel)",
   "language": "python",
   "name": "python3"
  },
  "language_info": {
   "codemirror_mode": {
    "name": "ipython",
    "version": 3
   },
   "file_extension": ".py",
   "mimetype": "text/x-python",
   "name": "python",
   "nbconvert_exporter": "python",
   "pygments_lexer": "ipython3",
   "version": "3.8.13"
  }
 },
 "nbformat": 4,
 "nbformat_minor": 5
}
