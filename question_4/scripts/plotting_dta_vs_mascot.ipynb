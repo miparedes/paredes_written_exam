{
 "cells": [
  {
   "cell_type": "code",
   "execution_count": 1,
   "id": "b6e98039",
   "metadata": {},
   "outputs": [],
   "source": [
    "import pandas as pd\n",
    "import numpy as np \n",
    "from altair import datum\n",
    "\n",
    "import altair as alt"
   ]
  },
  {
   "cell_type": "code",
   "execution_count": 2,
   "id": "2db4fcac",
   "metadata": {},
   "outputs": [],
   "source": [
    "df = pd.read_csv(\"question4_ratios.csv\")"
   ]
  },
  {
   "cell_type": "code",
   "execution_count": 3,
   "id": "2175a87f",
   "metadata": {},
   "outputs": [
    {
     "data": {
      "text/plain": [
       "array(['constant ', 'constant ', 'constant ', 'constant ', 'skyline',\n",
       "       'skyline', 'skyline', 'skyline'], dtype=object)"
      ]
     },
     "execution_count": 3,
     "metadata": {},
     "output_type": "execute_result"
    }
   ],
   "source": [
    "df.tree_prior.values"
   ]
  },
  {
   "cell_type": "code",
   "execution_count": 4,
   "id": "d4aca8ad",
   "metadata": {},
   "outputs": [],
   "source": [
    "points = alt.Chart(df).mark_point(opacity = 0.75, size = 60).encode(\n",
    "    alt.X('sampling:N'),\n",
    "    alt.Y('migration_ratio',axis=alt.Axis(title=\"migration ratio (ab/ba)\", grid=False)),#,scale=alt.Scale(domain=(0, 13))),\n",
    "    color=alt.Color('method:N',legend=alt.Legend(title= \"Region\",orient = \"right\", offset = -104)  ),\n",
    "    shape = alt.Shape(\"tree_prior:N\")\n",
    ").properties(\n",
    "    width=850,\n",
    "    height=400\n",
    ")\n",
    "\n",
    "line1 = alt.Chart(df).mark_line(opacity = 0.75).encode(\n",
    "    alt.X('sampling:N'),\n",
    "    alt.Y('migration_ratio',axis=alt.Axis(title=\"migration ratio (ab/ba)\", grid=False)),#,scale=alt.Scale(domain=(0, 13))),\n",
    "    color=alt.Color('method:N'),\n",
    ").transform_filter(datum.tree_prior == \"skyline\"\n",
    ").properties(\n",
    "    width=850,\n",
    "    height=400)\n",
    "\n",
    "line2 = alt.Chart(df).mark_line(opacity = 0.75, strokeDash = [1,1]).encode(\n",
    "    alt.X('sampling:N'),\n",
    "    alt.Y('migration_ratio',axis=alt.Axis(title=\"migration ratio (ab/ba)\", grid=False)),#,scale=alt.Scale(domain=(0, 13))),\n",
    "    color=alt.Color('method:N'),\n",
    ").transform_filter(datum.tree_prior == \"constant \"\n",
    ").properties(\n",
    "    width=850,\n",
    "    height=400)\n",
    "\n",
    "# a line to show an Rt of 1\n",
    "one_line = alt.Chart(pd.DataFrame({'y': [1.0]})).mark_rule(opacity = 0.3,strokeDash=[4,1]).encode(y='y').properties(\n",
    "    width=850,\n",
    "    height=300\n",
    ")\n"
   ]
  },
  {
   "cell_type": "code",
   "execution_count": 5,
   "id": "50fc8c36",
   "metadata": {},
   "outputs": [
    {
     "data": {
      "text/html": [
       "\n",
       "<div id=\"altair-viz-6181ce0bec4b46c0bafd6aaf5c63a37b\"></div>\n",
       "<script type=\"text/javascript\">\n",
       "  var VEGA_DEBUG = (typeof VEGA_DEBUG == \"undefined\") ? {} : VEGA_DEBUG;\n",
       "  (function(spec, embedOpt){\n",
       "    let outputDiv = document.currentScript.previousElementSibling;\n",
       "    if (outputDiv.id !== \"altair-viz-6181ce0bec4b46c0bafd6aaf5c63a37b\") {\n",
       "      outputDiv = document.getElementById(\"altair-viz-6181ce0bec4b46c0bafd6aaf5c63a37b\");\n",
       "    }\n",
       "    const paths = {\n",
       "      \"vega\": \"https://cdn.jsdelivr.net/npm//vega@5?noext\",\n",
       "      \"vega-lib\": \"https://cdn.jsdelivr.net/npm//vega-lib?noext\",\n",
       "      \"vega-lite\": \"https://cdn.jsdelivr.net/npm//vega-lite@4.17.0?noext\",\n",
       "      \"vega-embed\": \"https://cdn.jsdelivr.net/npm//vega-embed@6?noext\",\n",
       "    };\n",
       "\n",
       "    function maybeLoadScript(lib, version) {\n",
       "      var key = `${lib.replace(\"-\", \"\")}_version`;\n",
       "      return (VEGA_DEBUG[key] == version) ?\n",
       "        Promise.resolve(paths[lib]) :\n",
       "        new Promise(function(resolve, reject) {\n",
       "          var s = document.createElement('script');\n",
       "          document.getElementsByTagName(\"head\")[0].appendChild(s);\n",
       "          s.async = true;\n",
       "          s.onload = () => {\n",
       "            VEGA_DEBUG[key] = version;\n",
       "            return resolve(paths[lib]);\n",
       "          };\n",
       "          s.onerror = () => reject(`Error loading script: ${paths[lib]}`);\n",
       "          s.src = paths[lib];\n",
       "        });\n",
       "    }\n",
       "\n",
       "    function showError(err) {\n",
       "      outputDiv.innerHTML = `<div class=\"error\" style=\"color:red;\">${err}</div>`;\n",
       "      throw err;\n",
       "    }\n",
       "\n",
       "    function displayChart(vegaEmbed) {\n",
       "      vegaEmbed(outputDiv, spec, embedOpt)\n",
       "        .catch(err => showError(`Javascript Error: ${err.message}<br>This usually means there's a typo in your chart specification. See the javascript console for the full traceback.`));\n",
       "    }\n",
       "\n",
       "    if(typeof define === \"function\" && define.amd) {\n",
       "      requirejs.config({paths});\n",
       "      require([\"vega-embed\"], displayChart, err => showError(`Error loading script: ${err.message}`));\n",
       "    } else {\n",
       "      maybeLoadScript(\"vega\", \"5\")\n",
       "        .then(() => maybeLoadScript(\"vega-lite\", \"4.17.0\"))\n",
       "        .then(() => maybeLoadScript(\"vega-embed\", \"6\"))\n",
       "        .catch(showError)\n",
       "        .then(() => displayChart(vegaEmbed));\n",
       "    }\n",
       "  })({\"config\": {\"view\": {\"continuousWidth\": 400, \"continuousHeight\": 300}, \"axis\": {\"labelFontSize\": 20, \"titleFontSize\": 20}, \"legend\": {\"labelFontSize\": 20, \"titleFontSize\": 20}}, \"layer\": [{\"mark\": {\"type\": \"point\", \"opacity\": 0.75, \"size\": 60}, \"encoding\": {\"color\": {\"field\": \"method\", \"legend\": {\"offset\": -104, \"orient\": \"right\", \"title\": \"Region\"}, \"type\": \"nominal\"}, \"shape\": {\"field\": \"tree_prior\", \"type\": \"nominal\"}, \"x\": {\"field\": \"sampling\", \"type\": \"nominal\"}, \"y\": {\"axis\": {\"grid\": false, \"title\": \"migration ratio (ab/ba)\"}, \"field\": \"migration_ratio\", \"type\": \"quantitative\"}}, \"height\": 400, \"width\": 850}, {\"mark\": {\"type\": \"line\", \"opacity\": 0.75}, \"encoding\": {\"color\": {\"field\": \"method\", \"type\": \"nominal\"}, \"x\": {\"field\": \"sampling\", \"type\": \"nominal\"}, \"y\": {\"axis\": {\"grid\": false, \"title\": \"migration ratio (ab/ba)\"}, \"field\": \"migration_ratio\", \"type\": \"quantitative\"}}, \"height\": 400, \"transform\": [{\"filter\": \"(datum.tree_prior === 'skyline')\"}], \"width\": 850}, {\"mark\": {\"type\": \"line\", \"opacity\": 0.75, \"strokeDash\": [1, 1]}, \"encoding\": {\"color\": {\"field\": \"method\", \"type\": \"nominal\"}, \"x\": {\"field\": \"sampling\", \"type\": \"nominal\"}, \"y\": {\"axis\": {\"grid\": false, \"title\": \"migration ratio (ab/ba)\"}, \"field\": \"migration_ratio\", \"type\": \"quantitative\"}}, \"height\": 400, \"transform\": [{\"filter\": \"(datum.tree_prior === 'constant ')\"}], \"width\": 850}, {\"data\": {\"name\": \"data-0f80976e06af035141dd0a0f11df9332\"}, \"mark\": {\"type\": \"rule\", \"opacity\": 0.3, \"strokeDash\": [4, 1]}, \"encoding\": {\"y\": {\"field\": \"y\", \"type\": \"quantitative\"}}, \"height\": 300, \"width\": 850}], \"data\": {\"name\": \"data-54d23a14f2d65373ab1dc6972a6a30c4\"}, \"$schema\": \"https://vega.github.io/schema/vega-lite/v4.17.0.json\", \"datasets\": {\"data-54d23a14f2d65373ab1dc6972a6a30c4\": [{\"method\": \"dta\", \"sampling\": \"50:50\", \"tree_prior\": \"constant \", \"migration_ratio\": 0.809090909}, {\"method\": \"mascot\", \"sampling\": \"50:50\", \"tree_prior\": \"constant \", \"migration_ratio\": 0.631147541}, {\"method\": \"dta\", \"sampling\": \"90:10\", \"tree_prior\": \"constant \", \"migration_ratio\": 3.642857143}, {\"method\": \"mascot\", \"sampling\": \"90:10\", \"tree_prior\": \"constant \", \"migration_ratio\": 1.144736842}, {\"method\": \"dta\", \"sampling\": \"50:50\", \"tree_prior\": \"skyline\", \"migration_ratio\": 0.776785714}, {\"method\": \"mascot\", \"sampling\": \"50:50\", \"tree_prior\": \"skyline\", \"migration_ratio\": 0.79245283}, {\"method\": \"dta\", \"sampling\": \"90:10\", \"tree_prior\": \"skyline\", \"migration_ratio\": 3.488888889}, {\"method\": \"mascot\", \"sampling\": \"90:10\", \"tree_prior\": \"skyline\", \"migration_ratio\": 1.606060606}], \"data-0f80976e06af035141dd0a0f11df9332\": [{\"y\": 1.0}]}}, {\"mode\": \"vega-lite\"});\n",
       "</script>"
      ],
      "text/plain": [
       "alt.LayerChart(...)"
      ]
     },
     "execution_count": 5,
     "metadata": {},
     "output_type": "execute_result"
    }
   ],
   "source": [
    "(points + line1 + line2 + one_line).configure_axis(\n",
    "    labelFontSize=20,\n",
    "    titleFontSize=20\n",
    ").configure_legend(\n",
    "    labelFontSize = 20,    titleFontSize=20\n",
    ")"
   ]
  },
  {
   "cell_type": "markdown",
   "id": "9d8a2ea0",
   "metadata": {},
   "source": [
    "### just plot DTA"
   ]
  },
  {
   "cell_type": "code",
   "execution_count": 6,
   "id": "3310649a",
   "metadata": {},
   "outputs": [
    {
     "data": {
      "text/html": [
       "\n",
       "<div id=\"altair-viz-8829f703aea04d29b0afa1e8ad3440b0\"></div>\n",
       "<script type=\"text/javascript\">\n",
       "  var VEGA_DEBUG = (typeof VEGA_DEBUG == \"undefined\") ? {} : VEGA_DEBUG;\n",
       "  (function(spec, embedOpt){\n",
       "    let outputDiv = document.currentScript.previousElementSibling;\n",
       "    if (outputDiv.id !== \"altair-viz-8829f703aea04d29b0afa1e8ad3440b0\") {\n",
       "      outputDiv = document.getElementById(\"altair-viz-8829f703aea04d29b0afa1e8ad3440b0\");\n",
       "    }\n",
       "    const paths = {\n",
       "      \"vega\": \"https://cdn.jsdelivr.net/npm//vega@5?noext\",\n",
       "      \"vega-lib\": \"https://cdn.jsdelivr.net/npm//vega-lib?noext\",\n",
       "      \"vega-lite\": \"https://cdn.jsdelivr.net/npm//vega-lite@4.17.0?noext\",\n",
       "      \"vega-embed\": \"https://cdn.jsdelivr.net/npm//vega-embed@6?noext\",\n",
       "    };\n",
       "\n",
       "    function maybeLoadScript(lib, version) {\n",
       "      var key = `${lib.replace(\"-\", \"\")}_version`;\n",
       "      return (VEGA_DEBUG[key] == version) ?\n",
       "        Promise.resolve(paths[lib]) :\n",
       "        new Promise(function(resolve, reject) {\n",
       "          var s = document.createElement('script');\n",
       "          document.getElementsByTagName(\"head\")[0].appendChild(s);\n",
       "          s.async = true;\n",
       "          s.onload = () => {\n",
       "            VEGA_DEBUG[key] = version;\n",
       "            return resolve(paths[lib]);\n",
       "          };\n",
       "          s.onerror = () => reject(`Error loading script: ${paths[lib]}`);\n",
       "          s.src = paths[lib];\n",
       "        });\n",
       "    }\n",
       "\n",
       "    function showError(err) {\n",
       "      outputDiv.innerHTML = `<div class=\"error\" style=\"color:red;\">${err}</div>`;\n",
       "      throw err;\n",
       "    }\n",
       "\n",
       "    function displayChart(vegaEmbed) {\n",
       "      vegaEmbed(outputDiv, spec, embedOpt)\n",
       "        .catch(err => showError(`Javascript Error: ${err.message}<br>This usually means there's a typo in your chart specification. See the javascript console for the full traceback.`));\n",
       "    }\n",
       "\n",
       "    if(typeof define === \"function\" && define.amd) {\n",
       "      requirejs.config({paths});\n",
       "      require([\"vega-embed\"], displayChart, err => showError(`Error loading script: ${err.message}`));\n",
       "    } else {\n",
       "      maybeLoadScript(\"vega\", \"5\")\n",
       "        .then(() => maybeLoadScript(\"vega-lite\", \"4.17.0\"))\n",
       "        .then(() => maybeLoadScript(\"vega-embed\", \"6\"))\n",
       "        .catch(showError)\n",
       "        .then(() => displayChart(vegaEmbed));\n",
       "    }\n",
       "  })({\"config\": {\"view\": {\"continuousWidth\": 400, \"continuousHeight\": 300}, \"axis\": {\"labelFontSize\": 20, \"titleFontSize\": 20}, \"legend\": {\"labelFontSize\": 20, \"titleFontSize\": 20}}, \"layer\": [{\"mark\": {\"type\": \"point\", \"opacity\": 0.75, \"size\": 60}, \"encoding\": {\"color\": {\"field\": \"tree_prior\", \"type\": \"nominal\"}, \"x\": {\"field\": \"sampling\", \"type\": \"nominal\"}, \"y\": {\"axis\": {\"grid\": false, \"title\": \"migration ratio (ab/ba)\"}, \"field\": \"migration_ratio\", \"type\": \"quantitative\"}}, \"height\": 400, \"transform\": [{\"filter\": \"(datum.method === 'dta')\"}], \"width\": 850}, {\"mark\": {\"type\": \"line\", \"opacity\": 0.75}, \"encoding\": {\"color\": {\"field\": \"tree_prior\", \"type\": \"nominal\"}, \"x\": {\"field\": \"sampling\", \"type\": \"nominal\"}, \"y\": {\"axis\": {\"grid\": false, \"title\": \"migration ratio (ab/ba)\"}, \"field\": \"migration_ratio\", \"type\": \"quantitative\"}}, \"height\": 400, \"transform\": [{\"filter\": \"(datum.method === 'dta')\"}], \"width\": 850}, {\"data\": {\"name\": \"data-0f80976e06af035141dd0a0f11df9332\"}, \"mark\": {\"type\": \"rule\", \"opacity\": 0.3, \"strokeDash\": [4, 1]}, \"encoding\": {\"y\": {\"field\": \"y\", \"type\": \"quantitative\"}}, \"height\": 300, \"width\": 850}], \"data\": {\"name\": \"data-54d23a14f2d65373ab1dc6972a6a30c4\"}, \"$schema\": \"https://vega.github.io/schema/vega-lite/v4.17.0.json\", \"datasets\": {\"data-54d23a14f2d65373ab1dc6972a6a30c4\": [{\"method\": \"dta\", \"sampling\": \"50:50\", \"tree_prior\": \"constant \", \"migration_ratio\": 0.809090909}, {\"method\": \"mascot\", \"sampling\": \"50:50\", \"tree_prior\": \"constant \", \"migration_ratio\": 0.631147541}, {\"method\": \"dta\", \"sampling\": \"90:10\", \"tree_prior\": \"constant \", \"migration_ratio\": 3.642857143}, {\"method\": \"mascot\", \"sampling\": \"90:10\", \"tree_prior\": \"constant \", \"migration_ratio\": 1.144736842}, {\"method\": \"dta\", \"sampling\": \"50:50\", \"tree_prior\": \"skyline\", \"migration_ratio\": 0.776785714}, {\"method\": \"mascot\", \"sampling\": \"50:50\", \"tree_prior\": \"skyline\", \"migration_ratio\": 0.79245283}, {\"method\": \"dta\", \"sampling\": \"90:10\", \"tree_prior\": \"skyline\", \"migration_ratio\": 3.488888889}, {\"method\": \"mascot\", \"sampling\": \"90:10\", \"tree_prior\": \"skyline\", \"migration_ratio\": 1.606060606}], \"data-0f80976e06af035141dd0a0f11df9332\": [{\"y\": 1.0}]}}, {\"mode\": \"vega-lite\"});\n",
       "</script>"
      ],
      "text/plain": [
       "alt.LayerChart(...)"
      ]
     },
     "execution_count": 6,
     "metadata": {},
     "output_type": "execute_result"
    }
   ],
   "source": [
    "points = alt.Chart(df).mark_point(opacity = 0.75, size = 60).encode(\n",
    "    alt.X('sampling:N'),\n",
    "    alt.Y('migration_ratio',axis=alt.Axis(title=\"migration ratio (ab/ba)\", grid=False)),#,scale=alt.Scale(domain=(0, 13))),\n",
    "    color=alt.Color('tree_prior:N',  ),\n",
    "\n",
    ").transform_filter(datum.method == \"dta\"\n",
    ").properties(\n",
    "    width=850,\n",
    "    height=400\n",
    ")\n",
    "\n",
    "line1 = alt.Chart(df).mark_line(opacity = 0.75).encode(\n",
    "    alt.X('sampling:N'),\n",
    "    alt.Y('migration_ratio',axis=alt.Axis(title=\"migration ratio (ab/ba)\", grid=False)),#,scale=alt.Scale(domain=(0, 13))),\n",
    "    color=alt.Color('tree_prior:N'),\n",
    ").transform_filter(datum.method == \"dta\"\n",
    ").properties(\n",
    "    width=850,\n",
    "    height=400)\n",
    "\n",
    "# line2 = alt.Chart(df).mark_line(opacity = 0.75, strokeDash = [1,1]).encode(\n",
    "#     alt.X('sampling:N'),\n",
    "#     alt.Y('migration_ratio',axis=alt.Axis(title=\"migration ratio (ab/ba)\", grid=False)),#,scale=alt.Scale(domain=(0, 13))),\n",
    "#     color=alt.Color('method:N'),\n",
    "# ).transform_filter(datum.tree_prior == \"constant \"\n",
    "# ).properties(\n",
    "#     width=850,\n",
    "#     height=400)\n",
    "\n",
    "# a line to show an Rt of 1\n",
    "one_line = alt.Chart(pd.DataFrame({'y': [1.0]})).mark_rule(opacity = 0.3,strokeDash=[4,1]).encode(y='y').properties(\n",
    "    width=850,\n",
    "    height=300\n",
    ")\n",
    "\n",
    "(points + line1 + one_line).configure_axis(\n",
    "    labelFontSize=20,\n",
    "    titleFontSize=20\n",
    ").configure_legend(\n",
    "    labelFontSize = 20,    titleFontSize=20\n",
    ")"
   ]
  },
  {
   "cell_type": "code",
   "execution_count": null,
   "id": "b77e17a8",
   "metadata": {},
   "outputs": [],
   "source": []
  },
  {
   "cell_type": "code",
   "execution_count": null,
   "id": "95ae0a99",
   "metadata": {},
   "outputs": [],
   "source": []
  }
 ],
 "metadata": {
  "kernelspec": {
   "display_name": "Python 3 (ipykernel)",
   "language": "python",
   "name": "python3"
  },
  "language_info": {
   "codemirror_mode": {
    "name": "ipython",
    "version": 3
   },
   "file_extension": ".py",
   "mimetype": "text/x-python",
   "name": "python",
   "nbconvert_exporter": "python",
   "pygments_lexer": "ipython3",
   "version": "3.8.13"
  }
 },
 "nbformat": 4,
 "nbformat_minor": 5
}
